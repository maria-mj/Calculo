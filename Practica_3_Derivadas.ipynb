{
  "nbformat": 4,
  "nbformat_minor": 0,
  "metadata": {
    "colab": {
      "provenance": []
    },
    "kernelspec": {
      "name": "python3",
      "display_name": "Python 3"
    },
    "language_info": {
      "name": "python"
    }
  },
  "cells": [
    {
      "cell_type": "markdown",
      "source": [
        "# **Derivadas**"
      ],
      "metadata": {
        "id": "byI9nkI0BGeQ"
      }
    },
    {
      "cell_type": "markdown",
      "source": [
        "En este cuaderno vamos a aprender a calcular derivadas con Python.\n",
        "\n"
      ],
      "metadata": {
        "id": "-qVeXSSXBJe1"
      }
    },
    {
      "cell_type": "markdown",
      "source": [
        "Como siempre, comenzamos cargando los paquetes que vayamos a utilizar."
      ],
      "metadata": {
        "id": "oMsyo30Gzzh4"
      }
    },
    {
      "cell_type": "code",
      "source": [
        "# Paquetes para matemáticas\n",
        "import numpy as np\n",
        "import sympy as sp\n",
        "\n",
        "# Paquetes para representación grafica\n",
        "import matplotlib.pyplot as plt"
      ],
      "metadata": {
        "id": "TUHAfxstzzh5"
      },
      "execution_count": null,
      "outputs": []
    },
    {
      "cell_type": "markdown",
      "metadata": {
        "id": "R75qdoRnu7x0"
      },
      "source": [
        "## **Derivadas a partir de la definición**"
      ]
    },
    {
      "cell_type": "markdown",
      "metadata": {
        "id": "x71_Gdm6yDLf"
      },
      "source": [
        "Sabemos que la derivada de una función $f(x):D\\rightarrow \\mathbb{R}$ en un punto $x=a$ se define como el límite\n",
        "$$\n",
        "f'(a):=\\lim \\limits_{x\\rightarrow a} \\dfrac{f(x)-f(a)}{x-a},\n",
        "$$\n",
        "o, de manera equivalente,\n",
        "$$\n",
        "f'(a):= \\lim \\limits_{h\\rightarrow 0} \\dfrac{f(a+h)-f(a)}{h}.\n",
        "$$"
      ]
    },
    {
      "cell_type": "markdown",
      "metadata": {
        "id": "rZb9ZIZUyRiT"
      },
      "source": [
        "##### **Ejemplo**\n",
        "\n",
        "Calcular, empleando la definición de derivada, $f'(1)$, donde $f(x)=2x^3+1$."
      ]
    },
    {
      "cell_type": "code",
      "execution_count": null,
      "metadata": {
        "id": "owq1uUxbyCtD"
      },
      "outputs": [],
      "source": [
        "# Definimos la función\n",
        "f = 2*x**3+1\n",
        "\n",
        "# OBSERVACIÓN:\n",
        "# Para calcular la derivada a partir del límite, necesitamos f(x) y f(1).\n",
        "# Podemos evaluar una función en un punto con la instrucción f.subs(variable,valor)\n",
        "numerador = f-f.subs(x,1)\n",
        "denominador = x-1\n",
        "\n",
        "derivada = sp.limit(numerador/denominador,x,1)\n",
        "derivada"
      ]
    },
    {
      "cell_type": "markdown",
      "metadata": {
        "id": "ipK6k7kB1EDv"
      },
      "source": [
        "##### **Ejercicio 1**\n",
        "\n",
        "Calcula, empleando la definición de derivada, el valor de $f'(2)$ para $f(x)=\\dfrac{\\sqrt{x^3+2}}{x}$."
      ]
    },
    {
      "cell_type": "code",
      "source": [],
      "metadata": {
        "id": "FHW6iUsIyP2r"
      },
      "execution_count": null,
      "outputs": []
    },
    {
      "cell_type": "markdown",
      "metadata": {
        "id": "jyOZIhNZ1WMC"
      },
      "source": [
        "##### **Ejercicio 2**\n",
        "\n",
        "Calcula, a partir de la definición de derivada, el valor de $f'(a)$, para $f(x)=\\ln(x)$."
      ]
    },
    {
      "cell_type": "code",
      "source": [],
      "metadata": {
        "id": "cGI9zK_iyPnL"
      },
      "execution_count": null,
      "outputs": []
    },
    {
      "cell_type": "markdown",
      "source": [
        "## **Derivadas de forma directa**"
      ],
      "metadata": {
        "id": "eHZiPipTw_pt"
      }
    },
    {
      "cell_type": "markdown",
      "source": [
        "Para calcular derivadas de forma directa, utilizaremos la función `diff()` de `sympy`."
      ],
      "metadata": {
        "id": "My_xgNNVz12t"
      }
    },
    {
      "cell_type": "markdown",
      "source": [
        "##### **Ejemplo**\n",
        "\n",
        "Calcular la derivada de la función $f(x)=2x^3-x^2+5$."
      ],
      "metadata": {
        "id": "_TUJ715OojDY"
      }
    },
    {
      "cell_type": "code",
      "source": [
        "# 1. Definimos las variables que queremos utilizar\n",
        "x = sp.var('x')\n",
        "\n",
        "# 2. Definimos la función que queremos derivar\n",
        "f = 2*x**3-x**2+5\n",
        "\n",
        "# 3. Calculamos la derivada con la instrucción sp.diff (función de sympy)\n",
        "df = sp.diff(f,x)\n",
        "\n",
        "# Mostramos la expresión de la derivada con la instrucción 'print'\n",
        "print('La derivada de f(x) es', df)"
      ],
      "metadata": {
        "id": "55QecFJfBXtG"
      },
      "execution_count": null,
      "outputs": []
    },
    {
      "cell_type": "markdown",
      "source": [
        "##### **Ejemplo**\n",
        "\n",
        "Calcular la derivada de $g(x)=\\dfrac{x^2+\\sin x}{\\sqrt{x}}$."
      ],
      "metadata": {
        "id": "DPdainJJpl5Q"
      }
    },
    {
      "cell_type": "code",
      "source": [
        "# 1. Definimos las variables que queremos utilizar\n",
        "x = sp.var('x')\n",
        "  # OBSERVACIÓN: si ya hemos ejecutado la celda anterior donde aparecía esta instrucción,\n",
        "  # no hace falta volver a escribirla, está guardada en la \"memoria\" de Python.\n",
        "\n",
        "# 2. Definimos la función que queremos derivar\n",
        "g = (x**2+sp.sin(x))/sp.sqrt(x)\n",
        "\n",
        "# 3. Calculamos la derivada con la instrucción sp.diff (función de sympy)\n",
        "dg = sp.diff(g,x)\n",
        "\n",
        "# Mostramos la expresión de la derivada con la instrucción 'print'\n",
        "print('La derivada de g(x) es', dg)"
      ],
      "metadata": {
        "id": "2cWXLM-apNUQ"
      },
      "execution_count": null,
      "outputs": []
    },
    {
      "cell_type": "markdown",
      "source": [
        "Podemos utilizar la instrucción `init_printing` de la librería `sympy` para visualizar estas expresiones de forma más *elegante*."
      ],
      "metadata": {
        "id": "FOXpLC07qnqF"
      }
    },
    {
      "cell_type": "code",
      "source": [
        "from sympy import init_printing # Cargo la instrucción\n",
        "init_printing() # La activo"
      ],
      "metadata": {
        "id": "8N2AHpAAqKWJ"
      },
      "execution_count": null,
      "outputs": []
    },
    {
      "cell_type": "code",
      "source": [
        "dg # visualizo de nuevo la expresión de la derivada de g"
      ],
      "metadata": {
        "id": "7guWCMWbqh2L"
      },
      "execution_count": null,
      "outputs": []
    },
    {
      "cell_type": "markdown",
      "metadata": {
        "id": "v5r8Av83z_AL"
      },
      "source": [
        "Una instrucción que puede sernos útil para aproximar valores numéricos es `.evalf()`. Veamos cómo funciona con un ejemplo:"
      ]
    },
    {
      "cell_type": "code",
      "execution_count": null,
      "metadata": {
        "id": "CjjEgUsgz_AM"
      },
      "outputs": [],
      "source": [
        "sp.pi # Valor 'simbólico' de pi"
      ]
    },
    {
      "cell_type": "code",
      "execution_count": null,
      "metadata": {
        "id": "ACTMxCrvz_AM"
      },
      "outputs": [],
      "source": [
        "sp.pi.evalf() # Aproximación numérica de pi"
      ]
    },
    {
      "cell_type": "markdown",
      "source": [
        "##### **Ejercicio 3**\n",
        "\n",
        "Calcula la derivada de las siguientes expresiones:\n",
        "\n",
        "a) $f(x)=\\ln(\\ln(x^3+1))$\n",
        "\n",
        "b) $g(x)=\\arctan\\left(\\dfrac{\\sin x}{1+\\cos x}\\right)$\n",
        "\n",
        "c) $h(x)=\\dfrac{e^x \\cos x}{x^3}$"
      ],
      "metadata": {
        "id": "7b9Kl7karJSN"
      }
    },
    {
      "cell_type": "code",
      "source": [],
      "metadata": {
        "id": "4LtQvmP_r5_M"
      },
      "execution_count": null,
      "outputs": []
    },
    {
      "cell_type": "code",
      "source": [],
      "metadata": {
        "id": "2XwhyrCZ7wNW"
      },
      "execution_count": null,
      "outputs": []
    },
    {
      "cell_type": "code",
      "source": [],
      "metadata": {
        "id": "8Xu01cBGr-ZY"
      },
      "execution_count": null,
      "outputs": []
    },
    {
      "cell_type": "markdown",
      "source": [
        "## **Derivadas de orden superior**"
      ],
      "metadata": {
        "id": "vbUElqGD5WiX"
      }
    },
    {
      "cell_type": "markdown",
      "source": [
        "También podemos calcular la derivada de orden 2, 3,... con la instrucción `diff`. Podemos hacerlo de dos maneras:"
      ],
      "metadata": {
        "id": "PLmrmGyR5aHu"
      }
    },
    {
      "cell_type": "markdown",
      "source": [
        "##### **Ejemplo**\n",
        "\n",
        "Calcula la derivada de orden $3$ de $f(x)=e^{3x}$."
      ],
      "metadata": {
        "id": "VVcCSmEw5kG8"
      }
    },
    {
      "cell_type": "code",
      "source": [
        "# Variable\n",
        "x = sp.var('x')\n",
        "\n",
        "# Función\n",
        "f = sp.exp(3*x)\n",
        "\n",
        "# 1ª Derivada\n",
        "d1_f = sp.diff(f,x)\n",
        "\n",
        "# 2ª Derivada\n",
        "d2_f = sp.diff(d1_f,x)\n",
        "\n",
        "# 3ª Derivada\n",
        "d3_f = sp.diff(d2_f,x)\n",
        "\n",
        "# Muestro la 3ª derivada por pantalla\n",
        "d3_f"
      ],
      "metadata": {
        "id": "ZoPz6alZ5jaQ"
      },
      "execution_count": null,
      "outputs": []
    },
    {
      "cell_type": "code",
      "source": [
        "# También se puede hacer directamente:\n",
        "g = sp.exp(3*x)\n",
        "\n",
        "# 3ª Derivada\n",
        "d3_g = sp.diff(g,x,3)\n",
        "d3_g"
      ],
      "metadata": {
        "id": "j4uZaTbU6E-Q"
      },
      "execution_count": null,
      "outputs": []
    },
    {
      "cell_type": "markdown",
      "source": [
        "##### **Ejercicio 4**\n",
        "\n",
        "Calcula la quinta derivada de $f(x)=\\ln(x)$ y la cuarta derivada de $g(x)=\\dfrac{1}{x}$. ¿Qué relación ves entre ellas?"
      ],
      "metadata": {
        "id": "zhaQJKY36RtN"
      }
    },
    {
      "cell_type": "code",
      "source": [],
      "metadata": {
        "id": "LOUbXoz_6jCT"
      },
      "execution_count": null,
      "outputs": []
    },
    {
      "cell_type": "code",
      "source": [],
      "metadata": {
        "id": "prNLp3St7uu_"
      },
      "execution_count": null,
      "outputs": []
    },
    {
      "cell_type": "code",
      "source": [],
      "metadata": {
        "id": "xJTyG-DI6jf4"
      },
      "execution_count": null,
      "outputs": []
    },
    {
      "cell_type": "markdown",
      "source": [
        "## **Recta tangente**"
      ],
      "metadata": {
        "id": "vV99zLKUr88b"
      }
    },
    {
      "cell_type": "markdown",
      "source": [
        "Recordemos que la ecuación de la recta tangente a la curva $f(x)$ en un punto $(x_0,f(x_0))$, viene dada por la expresión:\n",
        "$$\n",
        "y=f(x_0)+f'(x_0)(x-x_0).\n",
        "$$"
      ],
      "metadata": {
        "id": "21ir3UawsBEn"
      }
    },
    {
      "cell_type": "markdown",
      "source": [
        "##### **Ejemplo**\n",
        "\n",
        "Calcula las ecuaciones de las rectas tangentes a la curva $f(x)=1+x^3$ que son paralelas a la recta $y=12x-1$"
      ],
      "metadata": {
        "id": "zgWVFgOxsaTD"
      }
    },
    {
      "cell_type": "markdown",
      "source": [
        "*Empiezo calculando la derivada de la función*"
      ],
      "metadata": {
        "id": "vSqKD4g5y47T"
      }
    },
    {
      "cell_type": "code",
      "source": [
        "# 1. Defino la variable de trabajo\n",
        "x = sp.var('x')\n",
        "\n",
        "# 2. Defino la función\n",
        "f = 1+x**3\n",
        "\n",
        "# 3. Calculo su derivada\n",
        "df = sp.diff(f,x)\n",
        "\n",
        "# Puedo mostrar por pantalla cual es la expresión de la derivada:\n",
        "df"
      ],
      "metadata": {
        "id": "bj3NwdNEsAjf"
      },
      "execution_count": null,
      "outputs": []
    },
    {
      "cell_type": "markdown",
      "source": [
        "*Para que las rectas tangentes sean paralelas a la recta $ y=12x-1$, deben tener la misma pendiente, es decir, la derivada debe valer 12. Vamos a buscar los puntos $x$ que cumplen $f'(x)=12$.*"
      ],
      "metadata": {
        "id": "ILedLpRHy8Vf"
      }
    },
    {
      "cell_type": "code",
      "source": [
        "# 4. Busco los puntos con derivada 12 con la siguiente instrucción\n",
        "puntos = sp.solve([sp.Eq(df,12)])\n",
        "  # sp.Eq(a,b) representa la ecuación a=b\n",
        "  # sp.solve(eq) resuelve la ecuacion\n",
        "\n",
        "# 5. Muestro los puntos obtenidos por pantalla\n",
        "puntos"
      ],
      "metadata": {
        "id": "5khf8Zn1zYAW"
      },
      "execution_count": null,
      "outputs": []
    },
    {
      "cell_type": "markdown",
      "source": [
        "*Hemos encontrado que los puntos con pendiente $12$ son $x=-2$ y $x=2$. Vamos a calcular la recta tangente en cada uno de ellos*"
      ],
      "metadata": {
        "id": "87zheHDu0uv6"
      }
    },
    {
      "cell_type": "code",
      "source": [
        "# Recta tangente en x=-2 -> y = f(-2)+f'(-2)(x-(-2)) = f(-2)+12(x+2)\n",
        "r1 = f.subs(x,-2)+12*(x+2)\n",
        "\n",
        "# Recta tangente en x=2 -> y = f(2)+f'(2)(x-2) = f(2)+12(x-2)\n",
        "r2 = f.subs(x,2)+12*(x-2)\n",
        "\n",
        "# Mostramos las rectas\n",
        "print(f'Las rectas buscadas son: y = {r1}, e y = {r1}')"
      ],
      "metadata": {
        "id": "nuG24a0uzljL"
      },
      "execution_count": null,
      "outputs": []
    },
    {
      "cell_type": "markdown",
      "source": [
        "##### **Ejecicio 5**\n",
        "\n",
        "Encuentra los puntos sobre la curva $y = 2x^3 + 3x^2 - 12x + 1$ donde la recta tangente es horizontal. (**Solución:** $x = -2$ y $x = 1$)."
      ],
      "metadata": {
        "id": "gU9kgTul6uED"
      }
    },
    {
      "cell_type": "code",
      "source": [],
      "metadata": {
        "id": "p4LU9OIf7GnB"
      },
      "execution_count": null,
      "outputs": []
    },
    {
      "cell_type": "code",
      "source": [],
      "metadata": {
        "id": "Ht5BSuVs7MVh"
      },
      "execution_count": null,
      "outputs": []
    },
    {
      "cell_type": "markdown",
      "source": [
        "##### **Ejercicio 6**\n",
        "\n",
        "Calcula la recta tangente a la función $f(x)=x^3-2\\sin(x^2)+1$ en $x=0$. (**Solución:** $y=1$)."
      ],
      "metadata": {
        "id": "DkxP-Xcg7Mq-"
      }
    },
    {
      "cell_type": "code",
      "source": [],
      "metadata": {
        "id": "Z6xb0C7C7pLR"
      },
      "execution_count": null,
      "outputs": []
    },
    {
      "cell_type": "code",
      "source": [],
      "metadata": {
        "id": "N_ZnM-Xv7soY"
      },
      "execution_count": null,
      "outputs": []
    }
  ]
}