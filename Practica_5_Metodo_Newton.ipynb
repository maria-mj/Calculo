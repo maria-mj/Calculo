{
  "nbformat": 4,
  "nbformat_minor": 0,
  "metadata": {
    "colab": {
      "provenance": []
    },
    "kernelspec": {
      "name": "python3",
      "display_name": "Python 3"
    },
    "language_info": {
      "name": "python"
    }
  },
  "cells": [
    {
      "cell_type": "markdown",
      "source": [
        "# **Método de Newton**"
      ],
      "metadata": {
        "id": "k5fAlTt4Ide1"
      }
    },
    {
      "cell_type": "markdown",
      "source": [
        "En este cuaderno vamos a calcular aproximaciones de raíces funciones utilizando el Método de Newton. Como trabajaremos con derivadas utilizaremos la función `diff()` de `sympy`."
      ],
      "metadata": {
        "id": "_L5fLupBInkt"
      }
    },
    {
      "cell_type": "markdown",
      "source": [
        "Comenzamos cargando los paquetes que vayamos a utilizar."
      ],
      "metadata": {
        "id": "LCyuqiJ4Iv99"
      }
    },
    {
      "cell_type": "code",
      "execution_count": null,
      "metadata": {
        "id": "rYovhoYyIZEA"
      },
      "outputs": [],
      "source": [
        "# Paquetes para matemáticas\n",
        "import numpy as np\n",
        "import sympy as sp\n",
        "\n",
        "# Paquetes para representación grafica\n",
        "import matplotlib.pyplot as plt"
      ]
    },
    {
      "cell_type": "markdown",
      "source": [
        "**Ejemplo**\n",
        "\n",
        "Aproxima $\\sqrt[6]{2}$ con una precisión de $8$ decimales"
      ],
      "metadata": {
        "id": "fdU3SQtsI4ZZ"
      }
    },
    {
      "cell_type": "markdown",
      "source": [
        "*En este ejercicio, debemos aplicar el Método de Newton a la función $f(x)=x^6-2$.*"
      ],
      "metadata": {
        "id": "eyP00eX5u2Cw"
      }
    },
    {
      "cell_type": "markdown",
      "source": [
        "*Voy a comenzar evaluando $\\sqrt[6]{2}$ para ver si nos vamos acercando con las iteraciones:*"
      ],
      "metadata": {
        "id": "lJ3gKvjDvD1I"
      }
    },
    {
      "cell_type": "code",
      "source": [
        "# Evaluamos 2^(1/6)\n",
        "x_exacta = 2**(1/6)\n",
        "x_exacta"
      ],
      "metadata": {
        "id": "cAVv5r5XNkPU"
      },
      "execution_count": null,
      "outputs": []
    },
    {
      "cell_type": "markdown",
      "source": [
        "*Definimos las variables y la función con las que vamos a trabajar*"
      ],
      "metadata": {
        "id": "QHdX4kWmvhMo"
      }
    },
    {
      "cell_type": "code",
      "source": [
        "# Variable\n",
        "x = sp.var('x')\n",
        "# Función de la que queremos buscar la raíz\n",
        "f = x**6-2\n",
        "# Derivada de f\n",
        "df = sp.diff(f,x)"
      ],
      "metadata": {
        "id": "-lWxxHUYvnnk"
      },
      "execution_count": null,
      "outputs": []
    },
    {
      "cell_type": "markdown",
      "source": [
        "*Escogemos un valor inicial para comenzar el método*"
      ],
      "metadata": {
        "id": "_BMjUto9vV8I"
      }
    },
    {
      "cell_type": "code",
      "source": [
        "# 1. Estimación inicial\n",
        "x0 = 1"
      ],
      "metadata": {
        "id": "ghd1StkyIb-O"
      },
      "execution_count": null,
      "outputs": []
    },
    {
      "cell_type": "markdown",
      "source": [
        "*Iteramos*"
      ],
      "metadata": {
        "id": "hbetGvXtvY7d"
      }
    },
    {
      "cell_type": "code",
      "source": [
        "# Primera iteración\n",
        "x1 = x0-f.subs(x,x0)/df.subs(x,x0)\n",
        "print('La primera iteración es:', x1.evalf())"
      ],
      "metadata": {
        "id": "tnkrLoI0ugNq"
      },
      "execution_count": null,
      "outputs": []
    },
    {
      "cell_type": "code",
      "source": [
        "# Puedo calcular cuál es el error de la aproximación:\n",
        "print('El error cometido e la 1ª iteracion es:', abs(x_exacta-x1)) ## Error en las 'x'"
      ],
      "metadata": {
        "id": "zE-NZaBNVcWX"
      },
      "execution_count": null,
      "outputs": []
    },
    {
      "cell_type": "code",
      "source": [
        "# Sin embargo, no solemos conocer el valor exacto que estamos buscando.\n",
        "# En ese caso, lo que se \"mide\" es cómo de \"lejos\" de llegar a 0 estamos\n",
        "print('El valor de la 1ª aproximación en f es:', f.subs(x,x1).evalf()) ##Error en las 'y'"
      ],
      "metadata": {
        "id": "4Pu1mhDeVd5b"
      },
      "execution_count": null,
      "outputs": []
    },
    {
      "cell_type": "code",
      "source": [
        "# También podemos medir la diferenia con la iteración anterior\n",
        "print('La diferencia con la anterior iteración es:', abs(x1-x0).evalf())"
      ],
      "metadata": {
        "id": "aTHDmdkB2kt7"
      },
      "execution_count": null,
      "outputs": []
    },
    {
      "cell_type": "code",
      "source": [
        "# Segunda iteración\n",
        "x2 = x1-f.subs(x,x1)/df.subs(x,x1)\n",
        "print('La segunda iteración es:', x2.evalf())"
      ],
      "metadata": {
        "id": "LMZQ6i2GwXZA"
      },
      "execution_count": null,
      "outputs": []
    },
    {
      "cell_type": "code",
      "source": [
        "print('El error cometido en la 2ª iteración es:', abs(x_exacta-x2))"
      ],
      "metadata": {
        "id": "PTzpXvwAV2E4"
      },
      "execution_count": null,
      "outputs": []
    },
    {
      "cell_type": "code",
      "source": [
        "print('El valor de la 2ª aproximación en f es:', f.subs(x,x2).evalf())"
      ],
      "metadata": {
        "id": "iNd4jXbJV5qs"
      },
      "execution_count": null,
      "outputs": []
    },
    {
      "cell_type": "code",
      "source": [
        "# Tercera iteración\n",
        "x3 = x2-f.subs(x,x2)/df.subs(x,x2)\n",
        "print('La tercera iteración es:', x3.evalf())"
      ],
      "metadata": {
        "id": "FVwVzkPbwZEA"
      },
      "execution_count": null,
      "outputs": []
    },
    {
      "cell_type": "code",
      "source": [
        "print('El error cometido en la 3ª iteración es:', abs(x_exacta-x3))"
      ],
      "metadata": {
        "id": "gooxsVqGWJDy"
      },
      "execution_count": null,
      "outputs": []
    },
    {
      "cell_type": "code",
      "source": [
        "print('El valor de la 3ª aproximación en f es:', f.subs(x,x3).evalf())"
      ],
      "metadata": {
        "id": "vxrMk7AHWJFv"
      },
      "execution_count": null,
      "outputs": []
    },
    {
      "cell_type": "code",
      "source": [],
      "metadata": {
        "id": "UCKsXSN2nILq"
      },
      "execution_count": null,
      "outputs": []
    },
    {
      "cell_type": "markdown",
      "source": [
        "**Ejercicio 1**\n",
        "\n",
        "Calcula $5$ iteraciones del Método de Newton para aproximar una raíz de $f(x)=x-\\cos(x)-3$ en el intervalo $[0,5]$. Evalúa la función en cada iteración para ver si nos vamos acercando a $0$ (es decir, si nos vamos aproximando a una raíz).\n"
      ],
      "metadata": {
        "id": "uBtk-QmYuggY"
      }
    },
    {
      "cell_type": "markdown",
      "source": [
        "*Datos del problema*"
      ],
      "metadata": {
        "id": "812ydd-J4B8G"
      }
    },
    {
      "cell_type": "code",
      "source": [
        "# Variables\n",
        "x =\n",
        "# Función de la que queremos buscar la raíz\n",
        "f =\n",
        "# Derivada de la función\n",
        "df ="
      ],
      "metadata": {
        "id": "NyUZMt7236Yk"
      },
      "execution_count": null,
      "outputs": []
    },
    {
      "cell_type": "markdown",
      "source": [
        "*Método de Newton*"
      ],
      "metadata": {
        "id": "szYACZP44Gvr"
      }
    },
    {
      "cell_type": "code",
      "source": [
        "# 1. Estimación inicial\n",
        "x0 = 1"
      ],
      "metadata": {
        "id": "1iKhdBBzup1B"
      },
      "execution_count": null,
      "outputs": []
    },
    {
      "cell_type": "code",
      "source": [
        "# Calculo f(x0) para asegurarme de que x0 no es la raíz buscada\n",
        "f.subs(x,x0).evalf()"
      ],
      "metadata": {
        "id": "Z7oPwbT3W9HO"
      },
      "execution_count": null,
      "outputs": []
    },
    {
      "cell_type": "code",
      "source": [
        "# 2. Iteraciones\n",
        "x1 = x0-f.subs(x,x0)/df.subs(x,x0)\n",
        "print('x1->',x1.evalf()) # calculo el nuevo valor de x\n",
        "print('(f(x1))->',f.subs(x,x1).evalf()) # miro lo que vale la f en x"
      ],
      "metadata": {
        "id": "RMleIOHpup75"
      },
      "execution_count": null,
      "outputs": []
    },
    {
      "cell_type": "code",
      "source": [],
      "metadata": {
        "id": "ASGQKkvrX8z0"
      },
      "execution_count": null,
      "outputs": []
    },
    {
      "cell_type": "code",
      "source": [],
      "metadata": {
        "id": "WaYeAsZWmb9F"
      },
      "execution_count": null,
      "outputs": []
    },
    {
      "cell_type": "code",
      "source": [],
      "metadata": {
        "id": "2N4C9hkcmb_U"
      },
      "execution_count": null,
      "outputs": []
    },
    {
      "cell_type": "code",
      "source": [],
      "metadata": {
        "id": "U11Funi3mcBk"
      },
      "execution_count": null,
      "outputs": []
    },
    {
      "cell_type": "markdown",
      "source": [
        "## **Función Newton**\n",
        "\n",
        "Mediante el siguiente código podemos calcular la aproximación de la raíz de una función tras, como máximo, $N$ iteraciones:"
      ],
      "metadata": {
        "id": "CiL3zYSgNkp3"
      }
    },
    {
      "cell_type": "code",
      "source": [
        "x = sp.var('x')\n",
        "\n",
        "def newton(f,x0,N_max,tol):\n",
        "  df = sp.diff(f,x)\n",
        "  f = sp.Lambda(x,f)\n",
        "  df = sp.Lambda(x,df)\n",
        "\n",
        "  x_aprox = np.zeros(N_max+1)\n",
        "  x_aprox[0] = x0\n",
        "\n",
        "  for k in range(1,N_max+1):\n",
        "      if (np.abs(df(x_aprox[k-1])) < tol):\n",
        "        print('Derivada próxima a cero')\n",
        "        break\n",
        "\n",
        "      x_aprox[k] = x_aprox[k-1] - f(x_aprox[k-1])/df(x_aprox[k-1])\n",
        "\n",
        "      if (np.abs(f(x_aprox[k])) < tol):\n",
        "        return x_aprox[k], k\n",
        "\n",
        "      elif (np.abs(x_aprox[k]-x_aprox[k-1])/np.abs(x_aprox[k]) < tol):\n",
        "        #return 'Las aproximaciones no mejoran'\n",
        "        print('Las aproximaciones no mejoran')\n",
        "        break\n",
        "\n",
        "  if k==N_max:\n",
        "    print('El método aún no ha convergido suficiente')\n",
        "    return x_aprox[k], k"
      ],
      "metadata": {
        "id": "LGCqW4BNIcBd"
      },
      "execution_count": null,
      "outputs": []
    },
    {
      "cell_type": "markdown",
      "source": [
        "**Ejemplo**\n",
        "\n",
        "Vamos a volver a trabajar con la función $f(x)=x^6-2$."
      ],
      "metadata": {
        "id": "C9w84Ak15ErO"
      }
    },
    {
      "cell_type": "markdown",
      "source": [
        "*Probamos el Método con N=10 iteraciones, tol=10^-9 y x0=1*"
      ],
      "metadata": {
        "id": "VVqwxPc7AsFC"
      }
    },
    {
      "cell_type": "code",
      "source": [
        "# Variables\n",
        "x = sp.var('x')\n",
        "# Función\n",
        "f = x**6-2\n",
        "# Datos de parada\n",
        "N_max = 10\n",
        "tol = 1.e-9\n",
        "x0 = 1\n",
        "\n",
        "# Aplicamos la función\n",
        "x_aprx, k = newton(f,x0,N_max,tol)\n",
        "\n",
        "print('Número de iteraciones realizadas: ', k)\n",
        "print('Valor de la aproximación (x): ', x_aprx)\n",
        "print('Valor de f(x): ', f.subs(x,x_aprx))"
      ],
      "metadata": {
        "id": "Z49PgPNY4vqy"
      },
      "execution_count": null,
      "outputs": []
    },
    {
      "cell_type": "markdown",
      "source": [
        "**Ejercicio 2**\n",
        "\n",
        "Utiliza el método de Newton para encontrar la raíz de la ecuación $\\cos(x) = x-3$ con una aproximación de $6$ decimales."
      ],
      "metadata": {
        "id": "FD9AD5jzA2C_"
      }
    },
    {
      "cell_type": "code",
      "source": [],
      "metadata": {
        "id": "lNZMeB3XA2Rh"
      },
      "execution_count": null,
      "outputs": []
    },
    {
      "cell_type": "code",
      "source": [],
      "metadata": {
        "id": "aQ9rpyQpnlcN"
      },
      "execution_count": null,
      "outputs": []
    },
    {
      "cell_type": "markdown",
      "source": [
        "**Ejercicio 3**\n",
        "\n",
        "Usa el método de Newton para encontrar apoximaciones de hasta $8$ decimales de las raíces de las siguientes ecuaciones:\n",
        "*   $3x^4-8x^3=-2$ en $[2,3]$.\n",
        "*   $-2x^5+9x^4-7x^3-11x=0$ en $[3,4]$.\n",
        "\n"
      ],
      "metadata": {
        "id": "8Xk_IXDtCIL1"
      }
    },
    {
      "cell_type": "code",
      "source": [],
      "metadata": {
        "id": "D27FGgJ_CXxI"
      },
      "execution_count": null,
      "outputs": []
    },
    {
      "cell_type": "code",
      "source": [],
      "metadata": {
        "id": "xAV2XnrRoPI6"
      },
      "execution_count": null,
      "outputs": []
    },
    {
      "cell_type": "code",
      "source": [],
      "metadata": {
        "id": "BZM0_dDICp_a"
      },
      "execution_count": null,
      "outputs": []
    }
  ]
}