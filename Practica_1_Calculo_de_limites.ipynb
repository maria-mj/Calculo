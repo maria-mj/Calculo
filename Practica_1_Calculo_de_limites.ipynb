{
  "nbformat": 4,
  "nbformat_minor": 0,
  "metadata": {
    "colab": {
      "provenance": []
    },
    "kernelspec": {
      "name": "python3",
      "display_name": "Python 3"
    },
    "language_info": {
      "name": "python"
    }
  },
  "cells": [
    {
      "cell_type": "markdown",
      "source": [
        "# **Cálculo de límites**"
      ],
      "metadata": {
        "id": "GFSx-EKT196c"
      }
    },
    {
      "cell_type": "markdown",
      "source": [
        "En este primer cuaderno, utilizaremos el lenguaje Python para resolver algunos límites."
      ],
      "metadata": {
        "id": "nkHvdXZV2Dlo"
      }
    },
    {
      "cell_type": "markdown",
      "source": [
        "Primero, cargamos los paquetes que vayamos a utilizar.\n",
        "\n"
      ],
      "metadata": {
        "id": "POEq993C2QW3"
      }
    },
    {
      "cell_type": "code",
      "source": [
        "# Si no tenemos algún paquete instalado, utilizaremos la instrucción\n",
        "!pip install numpy\n",
        "#!pip install sympy"
      ],
      "metadata": {
        "id": "pe_OeHrKwuwE"
      },
      "execution_count": null,
      "outputs": []
    },
    {
      "cell_type": "code",
      "execution_count": null,
      "metadata": {
        "id": "a3nUosIt1wGF"
      },
      "outputs": [],
      "source": [
        "# Paquetes para matemáticas\n",
        "import numpy as np\n",
        "import sympy as sp"
      ]
    },
    {
      "cell_type": "markdown",
      "source": [
        "Para resolver límites, vamos a utilizar la instrucción `limit()` de la librería sympy."
      ],
      "metadata": {
        "id": "s1UEbKFsTnNC"
      }
    },
    {
      "cell_type": "markdown",
      "source": [
        "##### **Ejemplo**\n",
        "\n",
        "Calcula el límite $\\lim\\limits_{x \\to 0} x^2 \\sin(\\pi/x)$"
      ],
      "metadata": {
        "id": "a2aKsGGS3Hqg"
      }
    },
    {
      "cell_type": "code",
      "source": [
        "# 1. Definimos los símbolos (\"variables\") que queramos utilizar\n",
        "x = sp.var('x')\n",
        "\n",
        "# 2. Definimos la función cuyo límite queremos calcular\n",
        "f = x**2*sp.sin(np.pi/x)\n",
        "  # OBSERVACIÓN:\n",
        "  # Tanto la función 'seno' como el número 'pi' son \"objetos\" de python\n",
        "  # 'seno' forma parte del paquete sympy, 'pi' del paquete numpy,\n",
        "  # por eso hay que \"llamarlos\" con su acrónimo (sp. ó np.) delante\n",
        "\n",
        "# 3. Calculamos el límite con la instrucción sp.limit (función de sympy)\n",
        "limite = sp.limit(f,x,0)\n",
        "\n",
        "# Mostramos el valor del límite con la instrucción 'print'\n",
        "print('El valor del límite es', limite)"
      ],
      "metadata": {
        "id": "5S4kn-vl3Grt"
      },
      "execution_count": null,
      "outputs": []
    },
    {
      "cell_type": "markdown",
      "source": [
        "**Algunas instrucciones o elementos matemáticos que debemos conocer son:**\n",
        "\n",
        "1. Infinito: sp.oo\n",
        "2. Funciones trigonométricas: sp.sin(x), sp.cos(x), sp.tan(x)\n",
        "3. Función exponencial: sp.exp(x) (el número $e$ sería sp.exp(1))\n",
        "4. Función logaritmo neperiano: sp.ln(x), sp.log(x) ó np.log(x)\n",
        "5. Logaritmo decimal: np.log10(x)\n",
        "6. Raíz cuadrada: sp.sqrt(x)"
      ],
      "metadata": {
        "id": "siHAo-YQ5A9c"
      }
    },
    {
      "cell_type": "markdown",
      "source": [
        "##### **Ejemplo**\n",
        "\n",
        "Demuestra que $\\lim\\limits_{x \\to 0} \\dfrac{\\tan(x)}{x}=1$"
      ],
      "metadata": {
        "id": "1ILB2iNoOTrv"
      }
    },
    {
      "cell_type": "code",
      "source": [
        "# 1. Definimos los símbolos\n",
        "x = sp.var('x')\n",
        "\n",
        "# 2. Definimos la función\n",
        "f = sp.tan(x)/x\n",
        "\n",
        "# 3. Calculamos el límite\n",
        "limite = sp.limit(f,x,0)\n",
        "\n",
        "# Mostramos el valor del límite\n",
        "print('El valor del límite es', limite)"
      ],
      "metadata": {
        "id": "IWoHSGr85EY_"
      },
      "execution_count": null,
      "outputs": []
    },
    {
      "cell_type": "markdown",
      "source": [
        "##### **Ejercicio 1**\n",
        "\n",
        "Calcula el valor de los siguientes límites:\n",
        "\n",
        " a) $\\lim \\limits_{x \\rightarrow 6} \\dfrac{2-\\sqrt{x-2}}{x^2-36}$\n",
        "\n",
        " b) $\\lim\\limits_{x \\to 0} \\dfrac{x^2 \\sin(1/x)}{\\sin(x)}$\n",
        "\n",
        " c) $\\lim\\limits_{x \\to 0} (1-\\cos x)^x$\n",
        "\n",
        " d) $\\lim\\limits_{x \\to \\infty} \\left( 1-\\dfrac{1}{x} \\right)^x$"
      ],
      "metadata": {
        "id": "bOBh_XufO_nJ"
      }
    },
    {
      "cell_type": "code",
      "source": [],
      "metadata": {
        "id": "CIWYqMjyR2_6"
      },
      "execution_count": null,
      "outputs": []
    },
    {
      "cell_type": "code",
      "source": [],
      "metadata": {
        "id": "sL1agJnYTdPL"
      },
      "execution_count": null,
      "outputs": []
    },
    {
      "cell_type": "code",
      "source": [],
      "metadata": {
        "id": "UoqMOI_XTdSo"
      },
      "execution_count": null,
      "outputs": []
    },
    {
      "cell_type": "code",
      "source": [],
      "metadata": {
        "id": "6kIWf1KzTdfa"
      },
      "execution_count": null,
      "outputs": []
    },
    {
      "cell_type": "markdown",
      "source": [
        "## **Límites laterales**"
      ],
      "metadata": {
        "id": "PrgxVIhglyB_"
      }
    },
    {
      "cell_type": "markdown",
      "source": [
        "Cuando queremos calcular un límite de una función que está definida a trozos o que está definida por distintas expresiones a la derecha y a la izquierda de un valor, necesitaremos estudiar los límites laterales."
      ],
      "metadata": {
        "id": "7LKuN82yl1BW"
      }
    },
    {
      "cell_type": "markdown",
      "source": [
        "##### **Ejemplo**\n",
        "\n",
        "Calcula el valor de $a$ para que la función\n",
        "$$\n",
        "h(x)= \\left\\{\n",
        "\\begin{matrix}\n",
        "x^2-2x+1 & \\text{si} & x<0 \\\\\n",
        "a & \\text{si} & x = 0 \\\\\n",
        "\\dfrac{\\sin(x)}{x} & \\text{si} & x>0\n",
        "\\end{matrix}\n",
        "\\right.\n",
        "$$\n",
        "sea continua."
      ],
      "metadata": {
        "id": "t-v9h_jUmJ9L"
      }
    },
    {
      "cell_type": "code",
      "source": [
        "# 1. Calculamos el valor del límite a la izquierda de 0\n",
        "sp.limit(x**2-2*x+1,x,0,\"-\") # La opcion \"-\" para el limite por la izq."
      ],
      "metadata": {
        "id": "y-voNcP7l0CH"
      },
      "execution_count": null,
      "outputs": []
    },
    {
      "cell_type": "code",
      "source": [
        "# 2. Calculamos el valor del límite a la derecha de 0\n",
        "sp.limit((sp.sin(x))/x,x,0,\"+\") # La opcion \"+\" para el limite por la der."
      ],
      "metadata": {
        "id": "fBbkDxafsMIt"
      },
      "execution_count": null,
      "outputs": []
    },
    {
      "cell_type": "markdown",
      "source": [
        "Luego $a$ debe valer $1$ para que la función sea continua."
      ],
      "metadata": {
        "id": "TS0mD2RlsWpN"
      }
    },
    {
      "cell_type": "markdown",
      "source": [
        "##### **Ejercicio 2**\n",
        "\n",
        "Determina el valor de los siguientes límites\n",
        "\n",
        "a) $\\lim\\limits_{x \\to 2^-} \\dfrac{x^2-2x}{x^2-4x+4}$\n",
        "\n",
        "b) $\\lim\\limits_{x \\to 2^+} \\dfrac{x^2-2x-8}{x^2-5x+6}$"
      ],
      "metadata": {
        "id": "4se9aJgnuWJu"
      }
    },
    {
      "cell_type": "code",
      "source": [],
      "metadata": {
        "id": "ecI4uDYCsQz2"
      },
      "execution_count": null,
      "outputs": []
    },
    {
      "cell_type": "code",
      "source": [],
      "metadata": {
        "id": "dFJkbssoTbqz"
      },
      "execution_count": null,
      "outputs": []
    },
    {
      "cell_type": "markdown",
      "source": [
        "## **Continuidad**"
      ],
      "metadata": {
        "id": "MyiqufqDRWoA"
      }
    },
    {
      "cell_type": "markdown",
      "source": [
        "Recordemos que, para que una función $f(x):D\\rightarrow \\mathbb{R}$ sea continua en un punto $x=a$ de su dominio, se debe cumplir que\n",
        "$$\n",
        "f(a)=\\lim \\limits_{x\\rightarrow a^-} f(x)=\\lim \\limits_{x\\rightarrow a^+} f(x).\n",
        "$$"
      ],
      "metadata": {
        "id": "RwR3B2PPSk1g"
      }
    },
    {
      "cell_type": "markdown",
      "source": [
        "##### **Ejercicio 3**\n",
        "Estudia la continuidad de la función $f: \\mathbb{R}\\backslash \\{0\\} \\rightarrow \\mathbb{R}$:\n",
        "$$f(x)=\\dfrac{e^{1/x}}{1+e^{1/x}}$$\n",
        "en $x=0$."
      ],
      "metadata": {
        "id": "ZcYkMfyI2V7v"
      }
    },
    {
      "cell_type": "code",
      "source": [],
      "metadata": {
        "id": "E4mSSOSL2czW"
      },
      "execution_count": null,
      "outputs": []
    }
  ]
}